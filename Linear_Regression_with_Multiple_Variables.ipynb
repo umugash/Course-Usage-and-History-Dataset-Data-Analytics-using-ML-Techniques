{
  "nbformat": 4,
  "nbformat_minor": 0,
  "metadata": {
    "colab": {
      "provenance": []
    },
    "kernelspec": {
      "name": "python3",
      "display_name": "Python 3"
    },
    "language_info": {
      "name": "python"
    }
  },
  "cells": [
    {
      "cell_type": "code",
      "execution_count": null,
      "metadata": {
        "colab": {
          "base_uri": "https://localhost:8080/",
          "height": 211
        },
        "id": "Zgoa7iCXGFD4",
        "outputId": "6c430cc3-a335-4df4-b361-35db1c5ec935"
      },
      "outputs": [
        {
          "output_type": "error",
          "ename": "NameError",
          "evalue": "name 'dataset' is not defined",
          "traceback": [
            "\u001b[0;31m---------------------------------------------------------------------------\u001b[0m",
            "\u001b[0;31mNameError\u001b[0m                                 Traceback (most recent call last)",
            "\u001b[0;32m<ipython-input-1-eb047626853a>\u001b[0m in \u001b[0;36m<cell line: 8>\u001b[0;34m()\u001b[0m\n\u001b[1;32m      6\u001b[0m \u001b[0;31m# Encode categorical variables like 'Category' and 'Platform' into numerical values\u001b[0m\u001b[0;34m\u001b[0m\u001b[0;34m\u001b[0m\u001b[0m\n\u001b[1;32m      7\u001b[0m \u001b[0mle\u001b[0m \u001b[0;34m=\u001b[0m \u001b[0mLabelEncoder\u001b[0m\u001b[0;34m(\u001b[0m\u001b[0;34m)\u001b[0m\u001b[0;34m\u001b[0m\u001b[0;34m\u001b[0m\u001b[0m\n\u001b[0;32m----> 8\u001b[0;31m \u001b[0mdataset\u001b[0m\u001b[0;34m[\u001b[0m\u001b[0;34m'Category'\u001b[0m\u001b[0;34m]\u001b[0m \u001b[0;34m=\u001b[0m \u001b[0mle\u001b[0m\u001b[0;34m.\u001b[0m\u001b[0mfit_transform\u001b[0m\u001b[0;34m(\u001b[0m\u001b[0mdataset\u001b[0m\u001b[0;34m[\u001b[0m\u001b[0;34m'Category'\u001b[0m\u001b[0;34m]\u001b[0m\u001b[0;34m)\u001b[0m\u001b[0;34m\u001b[0m\u001b[0;34m\u001b[0m\u001b[0m\n\u001b[0m\u001b[1;32m      9\u001b[0m \u001b[0mdataset\u001b[0m\u001b[0;34m[\u001b[0m\u001b[0;34m'Platform'\u001b[0m\u001b[0;34m]\u001b[0m \u001b[0;34m=\u001b[0m \u001b[0mle\u001b[0m\u001b[0;34m.\u001b[0m\u001b[0mfit_transform\u001b[0m\u001b[0;34m(\u001b[0m\u001b[0mdataset\u001b[0m\u001b[0;34m[\u001b[0m\u001b[0;34m'Platform'\u001b[0m\u001b[0;34m]\u001b[0m\u001b[0;34m)\u001b[0m\u001b[0;34m\u001b[0m\u001b[0;34m\u001b[0m\u001b[0m\n\u001b[1;32m     10\u001b[0m \u001b[0;34m\u001b[0m\u001b[0m\n",
            "\u001b[0;31mNameError\u001b[0m: name 'dataset' is not defined"
          ]
        }
      ],
      "source": [
        "from sklearn.model_selection import train_test_split\n",
        "from sklearn.linear_model import LinearRegression\n",
        "from sklearn.preprocessing import LabelEncoder\n",
        "from sklearn.metrics import mean_squared_error\n",
        "\n",
        "# Encode categorical variables like 'Category' and 'Platform' into numerical values\n",
        "le = LabelEncoder()\n",
        "dataset['Category'] = le.fit_transform(dataset['Category'])\n",
        "dataset['Platform'] = le.fit_transform(dataset['Platform'])\n",
        "\n",
        "# Define the feature set (X) and the target variable (y)\n",
        "X = dataset[['Category', 'Duration (hours)', 'Enrolled_Students', 'Completion_Rate (%)', 'Platform', 'Price ($)']]\n",
        "y = dataset['Rating (out of 5)']\n",
        "\n",
        "# Split the dataset into training and testing sets\n",
        "X_train, X_test, y_train, y_test = train_test_split(X, y, test_size=0.2, random_state=42)\n",
        "\n",
        "# Initialize the linear regression model\n",
        "linear_regressor = LinearRegression()\n",
        "\n",
        "# Train the model\n",
        "linear_regressor.fit(X_train, y_train)\n",
        "\n",
        "# Predict ratings for the test set\n",
        "y_pred = linear_regressor.predict(X_test)\n",
        "\n",
        "# Evaluate the model using Mean Squared Error\n",
        "mse = mean_squared_error(y_test, y_pred)\n",
        "\n",
        "# Output the results\n",
        "print(\"Coefficients: \", linear_regressor.coef_)\n",
        "print(\"Intercept: \", linear_regressor.intercept_)\n",
        "print(\"Mean Squared Error: \", mse)\n"
      ]
    },
    {
      "source": [
        "import pandas as pd\n",
        "from sklearn.model_selection import train_test_split\n",
        "from sklearn.linear_model import LinearRegression\n",
        "from sklearn.preprocessing import LabelEncoder\n",
        "from sklearn.metrics import mean_squared_error\n",
        "\n",
        "# Function to load dataset and perform linear regression\n",
        "def perform_linear_regression(/content/dataset mla.csv):\n",
        "    # Load dataset\n",
        "    dataset = pd.read_csv(/content/dataset mla.csv)\n",
        "\n",
        "    # Encode categorical variables like 'Category' and 'Platform' into numerical values\n",
        "    le = LabelEncoder()\n",
        "    dataset['Category'] = le.fit_transform(dataset['Category'])\n",
        "    dataset['Platform'] = le.fit_transform(dataset['Platform'])\n",
        "\n",
        "    # Define the feature set (X) and the target variable (y)\n",
        "    X = dataset[['Category', 'Duration (hours)', 'Enrolled_Students', 'Completion_Rate (%)', 'Platform', 'Price ($)']]\n",
        "    y = dataset['Rating (out of 5)']\n",
        "\n",
        "    # Split the dataset into training and testing sets\n",
        "    X_train, X_test, y_train, y_test = train_test_split(X, y, test_size=0.2, random_state=42)\n",
        "\n",
        "    # Initialize the linear regression model\n",
        "    linear_regressor = LinearRegression()\n",
        "\n",
        "    # Train the model\n",
        "    linear_regressor.fit(X_train, y_train)\n",
        "\n",
        "    # Predict ratings for the test set\n",
        "    y_pred = linear_regressor.predict(X_test)\n",
        "\n",
        "    # Evaluate the model using Mean Squared Error\n",
        "    mse = mean_squared_error(y_test, y_pred)\n",
        "\n",
        "    # Output the results\n",
        "    print(\"Coefficients: \", linear_regressor.coef_)\n",
        "    print(\"Intercept: \", linear_regressor.intercept_)\n",
        "    print(\"Mean Squared Error: \", mse)\n",
        "\n",
        "# Usage: Update the file path below to the location of your new dataset\n",
        "file_path = 'path_to_your_dataset.csv'  # Update this with your new dataset file path\n",
        "perform_linear_regression(/content/dataset mla.csv)\n"
      ],
      "cell_type": "code",
      "metadata": {
        "colab": {
          "base_uri": "https://localhost:8080/",
          "height": 106
        },
        "id": "17B1HGCvGW1b",
        "outputId": "e2cb1264-419c-4d9c-808d-50542a614cce"
      },
      "execution_count": null,
      "outputs": [
        {
          "output_type": "error",
          "ename": "SyntaxError",
          "evalue": "invalid syntax (<ipython-input-4-ac31c758cb06>, line 8)",
          "traceback": [
            "\u001b[0;36m  File \u001b[0;32m\"<ipython-input-4-ac31c758cb06>\"\u001b[0;36m, line \u001b[0;32m8\u001b[0m\n\u001b[0;31m    def perform_linear_regression(/content/dataset mla.csv):\u001b[0m\n\u001b[0m                                  ^\u001b[0m\n\u001b[0;31mSyntaxError\u001b[0m\u001b[0;31m:\u001b[0m invalid syntax\n"
          ]
        }
      ]
    },
    {
      "source": [
        "from sklearn.model_selection import train_test_split\n",
        "from sklearn.linear_model import LinearRegression\n",
        "from sklearn.preprocessing import LabelEncoder\n",
        "from sklearn.metrics import mean_squared_error\n",
        "\n",
        "import pandas as pd # Import the pandas library\n",
        "\n",
        "# Load the dataset (replace 'your_dataset.csv' with the actual file name)\n",
        "dataset = pd.read_csv('/content/dataset mla.csv') # Load the dataset using pandas\n",
        "\n",
        "# Encode categorical variables like 'Category' and 'Platform' into numerical values\n",
        "le = LabelEncoder()\n",
        "dataset['Category'] = le.fit_transform(dataset['Category'])\n",
        "dataset['Platform'] = le.fit_transform(dataset['Platform'])\n",
        "\n",
        "# Define the feature set (X) and the target variable (y)\n",
        "X = dataset[['Category', 'Duration (hours)', 'Enrolled_Students', 'Completion_Rate (%)', 'Platform', 'Price ($)']]\n",
        "y = dataset['Rating (out of 5)']\n",
        "\n",
        "# Split the dataset into training and testing sets\n",
        "X_train, X_test, y_train, y_test = train_test_split(X, y, test_size=0.2, random_state=42)\n",
        "\n",
        "# Initialize the linear regression model\n",
        "linear_regressor = LinearRegression()\n",
        "\n",
        "# Train the model\n",
        "linear_regressor.fit(X_train, y_train)\n",
        "\n",
        "# Predict ratings for the test set\n",
        "y_pred = linear_regressor.predict(X_test)\n",
        "\n",
        "# Evaluate the model using Mean Squared Error\n",
        "mse = mean_squared_error(y_test, y_pred)\n",
        "\n",
        "# Output the results\n",
        "print(\"Coefficients: \", linear_regressor.coef_)\n",
        "print(\"Intercept: \", linear_regressor.intercept_)\n",
        "print(\"Mean Squared Error: \", mse)"
      ],
      "cell_type": "code",
      "metadata": {
        "colab": {
          "base_uri": "https://localhost:8080/"
        },
        "id": "lD4pYfQqHblk",
        "outputId": "be746351-b05f-40aa-9fa2-e994a09cd07a"
      },
      "execution_count": null,
      "outputs": [
        {
          "output_type": "stream",
          "name": "stdout",
          "text": [
            "Coefficients:  [-7.12520921e-04 -2.17655394e-04 -8.13729970e-06 -8.38106820e-05\n",
            "  3.70979931e-03 -1.02948883e-04]\n",
            "Intercept:  4.045107356861053\n",
            "Mean Squared Error:  0.3321503070757052\n"
          ]
        }
      ]
    }
  ]
}