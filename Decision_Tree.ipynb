{
  "nbformat": 4,
  "nbformat_minor": 0,
  "metadata": {
    "colab": {
      "provenance": []
    },
    "kernelspec": {
      "name": "python3",
      "display_name": "Python 3"
    },
    "language_info": {
      "name": "python"
    }
  },
  "cells": [
    {
      "cell_type": "code",
      "execution_count": null,
      "metadata": {
        "colab": {
          "base_uri": "https://localhost:8080/"
        },
        "id": "SXkCR6gWsWHK",
        "outputId": "38f5c165-4e78-4d56-fbd7-eddca0384202"
      },
      "outputs": [
        {
          "output_type": "stream",
          "name": "stdout",
          "text": [
            "Root Mean Squared Error: 0.84\n"
          ]
        }
      ],
      "source": [
        "import pandas as pd\n",
        "from sklearn.model_selection import train_test_split\n",
        "from sklearn.tree import DecisionTreeRegressor, plot_tree\n",
        "from sklearn.preprocessing import OneHotEncoder\n",
        "from sklearn.compose import ColumnTransformer\n",
        "from sklearn.pipeline import Pipeline\n",
        "from sklearn.metrics import mean_squared_error\n",
        "import matplotlib.pyplot as plt\n",
        "\n",
        "# Path to the dataset file\n",
        "file_path = '/content/dataset mla.csv'\n",
        "\n",
        "# Load the dataset\n",
        "data = pd.read_csv(file_path)\n",
        "\n",
        "# Select features and target variable\n",
        "features = ['Category', 'Duration (hours)', 'Enrolled_Students',\n",
        "            'Completion_Rate (%)', 'Platform', 'Price ($)']\n",
        "target = 'Rating (out of 5)'\n",
        "\n",
        "X = data[features]\n",
        "y = data[target]\n",
        "\n",
        "# One-hot encoding for categorical features\n",
        "preprocessor = ColumnTransformer(\n",
        "    transformers=[\n",
        "        ('cat', OneHotEncoder(), ['Category', 'Platform'])\n",
        "    ],\n",
        "    remainder='passthrough'\n",
        ")\n",
        "\n",
        "# Transform the features\n",
        "X_transformed = preprocessor.fit_transform(X)\n",
        "\n",
        "# Decision tree model\n",
        "decision_tree = DecisionTreeRegressor(random_state=0)\n",
        "\n",
        "# Split the dataset into training and testing sets\n",
        "X_train, X_test, y_train, y_test = train_test_split(X_transformed, y, test_size=0.2, random_state=0)\n",
        "\n",
        "# Train the model\n",
        "decision_tree.fit(X_train, y_train)\n",
        "\n",
        "# Make predictions\n",
        "y_pred = decision_tree.predict(X_test)\n",
        "\n",
        "# Evaluate the model\n",
        "mse = mean_squared_error(y_test, y_pred)\n",
        "rmse = mse ** 0.5\n",
        "\n",
        "print(f'Root Mean Squared Error: {rmse:.2f}')\n",
        "\n",
        "# Visualize the decision tree\n",
        "plt.figure(figsize=(20, 10))\n",
        "plot_tree(decision_tree, feature_names=preprocessor.get_feature_names_out(), filled=True, fontsize=10)\n",
        "plt.title(\"Decision Tree Visualization for Course Rating Prediction\")\n",
        "plt.show()\n"
      ]
    }
  ]
}