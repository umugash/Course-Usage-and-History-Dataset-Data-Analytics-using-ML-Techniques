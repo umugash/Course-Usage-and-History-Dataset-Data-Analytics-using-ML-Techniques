{
  "nbformat": 4,
  "nbformat_minor": 0,
  "metadata": {
    "colab": {
      "provenance": []
    },
    "kernelspec": {
      "name": "python3",
      "display_name": "Python 3"
    },
    "language_info": {
      "name": "python"
    }
  },
  "cells": [
    {
      "cell_type": "code",
      "execution_count": null,
      "metadata": {
        "colab": {
          "base_uri": "https://localhost:8080/"
        },
        "id": "YSxrgqdUIb8O",
        "outputId": "fe8d26de-ae8a-4db0-d548-88f5cfc7aa8f"
      },
      "outputs": [
        {
          "output_type": "stream",
          "name": "stdout",
          "text": [
            "Accuracy:  0.488\n",
            "Confusion Matrix: \n",
            " [[432 581]\n",
            " [443 544]]\n"
          ]
        }
      ],
      "source": [
        "import pandas as pd\n",
        "from sklearn.model_selection import train_test_split\n",
        "from sklearn.linear_model import LogisticRegression\n",
        "from sklearn.preprocessing import LabelEncoder\n",
        "from sklearn.metrics import accuracy_score, confusion_matrix\n",
        "# Function to load dataset and perform logistic regression\n",
        "def perform_logistic_regression(dataset_path=\"/content/dataset mla.csv\"):\n",
        "    # Load dataset\n",
        "    dataset = pd.read_csv(dataset_path)\n",
        "\n",
        "    # Encode categorical variables like 'Category' and 'Platform' into numerical values\n",
        "    le = LabelEncoder()\n",
        "    dataset['Category'] = le.fit_transform(dataset['Category'])\n",
        "    dataset['Platform'] = le.fit_transform(dataset['Platform'])\n",
        "\n",
        "    # Create a binary target variable: 1 if Rating > 4, else 0\n",
        "    dataset['Good_Rating'] = (dataset['Rating (out of 5)'] > 4).astype(int)\n",
        "\n",
        "    # Define the feature set (X) and the target variable (y)\n",
        "    X = dataset[['Category', 'Duration (hours)', 'Enrolled_Students', 'Completion_Rate (%)', 'Platform', 'Price ($)']]\n",
        "    y = dataset['Good_Rating']\n",
        "\n",
        "    # Split the dataset into training and testing sets\n",
        "    X_train, X_test, y_train, y_test = train_test_split(X, y, test_size=0.2, random_state=42)\n",
        "\n",
        "    # Initialize the logistic regression model\n",
        "    logistic_regressor = LogisticRegression()\n",
        "\n",
        "    # Train the model\n",
        "    logistic_regressor.fit(X_train, y_train)\n",
        "\n",
        "    # Predict whether the courses have good ratings for the test set\n",
        "    y_pred = logistic_regressor.predict(X_test)\n",
        "\n",
        "    # Evaluate the model using accuracy score and confusion matrix\n",
        "    accuracy = accuracy_score(y_test, y_pred)\n",
        "    confusion = confusion_matrix(y_test, y_pred)\n",
        "\n",
        "    # Output the results\n",
        "    print(\"Accuracy: \", accuracy)\n",
        "    print(\"Confusion Matrix: \\n\", confusion)\n",
        "\n",
        "# Usage: Update the file path below to the location of your new dataset\n",
        "file_path = '/content/dataset mla.csv'  # Update this with your new dataset file path\n",
        "perform_logistic_regression('/content/dataset mla.csv')"
      ]
    }
  ]
}